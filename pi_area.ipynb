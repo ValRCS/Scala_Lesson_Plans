{
 "cells": [
  {
   "cell_type": "code",
   "execution_count": 6,
   "metadata": {},
   "outputs": [
    {
     "name": "stdout",
     "output_type": "stream",
     "text": [
      "1 3.14\n",
      "2 12.57\n",
      "3 28.27\n",
      "4 50.27\n",
      "5 78.54\n",
      "6 113.1\n",
      "7 153.94\n",
      "8 201.06\n",
      "9 254.47\n",
      "10 314.16\n",
      "11 380.13\n",
      "12 452.39\n",
      "13 530.93\n",
      "14 615.75\n",
      "15 706.86\n",
      "16 804.25\n",
      "17 907.92\n",
      "18 1017.88\n",
      "19 1134.11\n",
      "20 1256.64\n",
      "21 1385.44\n",
      "22 1520.53\n",
      "23 1661.9\n",
      "24 1809.56\n",
      "25 1963.5\n",
      "26 2123.72\n",
      "27 2290.22\n",
      "28 2463.01\n",
      "29 2642.08\n",
      "30 2827.43\n",
      "31 3019.07\n",
      "32 3216.99\n",
      "[12, 28, 50, 78, 254, 314, 380, 452, 530, 706, 804, 1134, 1256, 1520, 2290, 2642, 3216]\n",
      "15666\n"
     ]
    }
   ],
   "source": [
    "# print values for area of a circle for n in range(1,11):\n",
    "\n",
    "# import PI\n",
    "from math import pi\n",
    "\n",
    "even_areas = []\n",
    "for i in range(1,33):\n",
    "    print(i, round(pi * i**2, 2))\n",
    "    if int(pi * i**2) % 2 == 0:\n",
    "        even_areas.append(int(pi * i**2))\n",
    "\n",
    "print(even_areas)\n",
    "print(sum(even_areas))\n",
    "\n"
   ]
  }
 ],
 "metadata": {
  "kernelspec": {
   "display_name": "Python 3",
   "language": "python",
   "name": "python3"
  },
  "language_info": {
   "codemirror_mode": {
    "name": "ipython",
    "version": 3
   },
   "file_extension": ".py",
   "mimetype": "text/x-python",
   "name": "python",
   "nbconvert_exporter": "python",
   "pygments_lexer": "ipython3",
   "version": "3.10.7"
  },
  "orig_nbformat": 4,
  "vscode": {
   "interpreter": {
    "hash": "5a7484dfba3fe704bcb4cb86b5e44e6e7ff65d5a0abe78302d0cbbc52f6659d4"
   }
  }
 },
 "nbformat": 4,
 "nbformat_minor": 2
}
